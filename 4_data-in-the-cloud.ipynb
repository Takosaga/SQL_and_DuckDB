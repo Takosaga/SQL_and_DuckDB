{
 "cells": [
  {
   "cell_type": "markdown",
   "id": "810bd9e5",
   "metadata": {},
   "source": [
    "<a target=\"_blank\" href=\"https://colab.research.google.com/github/motherduckdb/sql-tutorial\">\n",
    "  <img src=\"https://colab.research.google.com/assets/colab-badge.svg\" alt=\"Open In Colab\"/>\n",
    "</a>\n",
    "\n",
    "# 4. Collaborating with data in the Cloud\n",
    "\n",
    "This cell downloads the answers for the exercises.\n",
    "\n",
    "```bash\n",
    "# run this in your Vs Code terminal\n",
    "wget https://raw.githubusercontent.com/motherduckdb/sql-tutorial/main/answers/answers_4.zip -q \n",
    "unzip -o answers_4.zip -d answers \n",
    "```\n",
    "\n",
    "## Sign up for MotherDuck\n",
    "\n",
    "If you haven't already done it, [sign up for MotherDuck](https://app.motherduck.com/?auth_flow=signup).\n",
    "\n",
    "To connect to MotherDuck, all you need to do is connect to a `duckdb` database! Your MotherDuck databases will be accessible with the `md:` prefix. For example, to connect to the `sample_data` database and show the tables, uncomment the following lines and run:"
   ]
  },
  {
   "cell_type": "code",
   "execution_count": null,
   "id": "7661d706",
   "metadata": {},
   "outputs": [],
   "source": [
    "import duckdb\n",
    "con = duckdb.connect(\"md:sample_data\")"
   ]
  },
  {
   "cell_type": "markdown",
   "id": "cd09be59",
   "metadata": {},
   "source": [
    "However, this will throw an error! You actually need to specify your authentication token to connect to MotherDuck.\n",
    "\n",
    "To do so, you can [copy your token](https://app.motherduck.com/token-request?appName=Jupyter) from Motherduck and add it to your notebook \"Secrets\".\n",
    "\n",
    "Now, you can get your token from the secrets manager and load it into an environment variable. After this, you can connect to MotherDuck without any extra authentication steps!\n",
    "\n",
    "BUT if you want to use a Marimo SQL Cell, this will *simply work*:\n",
    "\n",
    "```\n",
    "ATTACH 'md:'\n",
    "```\n",
    "\n",
    "Then you can click-through the authentication steps and get your token into your Marimo session."
   ]
  },
  {
   "cell_type": "markdown",
   "id": "efb3ab94",
   "metadata": {
    "cell_type": "markdown"
   },
   "source": [
    "**Exercise 4.01**\n",
    "\n",
    "Create a connection to MotherDuck and show all tables in your `sample_data` database. You can use the `SHOW TABLES` command that is documented [here](https://duckdb.org/docs/guides/meta/list_tables.html)."
   ]
  },
  {
   "cell_type": "markdown",
   "id": "7e44eb9f",
   "metadata": {
    "cell_type": "markdown"
   },
   "source": [
    "## Run a query against DuckDB in the Cloud\n",
    "\n",
    "You are now all ready to go and query your Cloud data warehouse! One example in the `sample_data` database is the `service_requests` table, which contains [New York City 311 Service Requests](https://motherduck.com/docs/getting-started/sample-data-queries/nyc-311-data/) with requests to the city's complaint service from 2010 to the present.\n",
    "\n",
    "To query the data, you'll want to fully specify the table name with the following format:\n",
    "\n",
    "```sql\n",
    "<database name>.<schema>.<table name>\n",
    "```\n",
    "\n",
    "For example, you can run the below cell to get the service requests between March 27th and 31st of 2022:\n",
    "\n",
    "```sql\n",
    "SELECT\n",
    "  created_date, agency_name, complaint_type,\n",
    "  descriptor, incident_address, resolution_description\n",
    "FROM\n",
    "  sample_data.nyc.service_requests\n",
    "WHERE\n",
    "  created_date >= '2022-03-27' AND\n",
    "  created_date <= '2022-03-31';\n",
    "```"
   ]
  },
  {
   "cell_type": "markdown",
   "id": "63cc8999",
   "metadata": {
    "cell_type": "markdown"
   },
   "source": [
    "**Exercise 4.02**\n",
    "\n",
    "Run `DESCRIBE` on the `sample_data.who.ambient_air_quality` table to inspect the column names. Write a query that gets the average concentrations of PM1.0 and PM2.5 particles for the `'United States of America'`, for the last 10 years, grouped and ordered by year."
   ]
  },
  {
   "cell_type": "code",
   "execution_count": null,
   "id": "28dd4728",
   "metadata": {},
   "outputs": [],
   "source": [
    "# Uncomment and run to show solution\n",
    "# !cat ./answers/answer_4.02.py"
   ]
  },
  {
   "cell_type": "markdown",
   "id": "f5552b78",
   "metadata": {},
   "source": [
    "## Load data from Huggingface\n",
    "\n",
    "Now, let's try to load some data from a data source into MotherDuck. HuggingFace has recently released an extension for DuckDB, that lets you access and query their entire [datasets library](https://huggingface.co/datasets)!\n",
    "\n",
    "To query a HuggingFace dataset, you can run:"
   ]
  },
  {
   "cell_type": "code",
   "execution_count": null,
   "id": "90872e61",
   "metadata": {},
   "outputs": [],
   "source": [
    "SELECT * FROM read_parquet('hf://datasets/datonic/threatened_animal_species/data/threatened_animal_species.parquet');"
   ]
  },
  {
   "cell_type": "markdown",
   "id": "3996e6d4",
   "metadata": {},
   "source": [
    "Before we create a new table with this data, let's first swap to a different database. You can do so by creating a new DuckDB connection, or by changing the database with the `USE` statement. For example, to connect to your default database, `my_db`, run:"
   ]
  },
  {
   "cell_type": "code",
   "execution_count": null,
   "id": "fff51880",
   "metadata": {},
   "outputs": [],
   "source": [
    "USE my_db;"
   ]
  },
  {
   "cell_type": "markdown",
   "id": "ac6bba1a",
   "metadata": {
    "cell_type": "markdown"
   },
   "source": [
    "**Exercise 4.03**\n",
    "\n",
    "Create a new table called `animals` in your MotherDuck database `md:my_db` based on the `datonic/threatened_animal_species` dataset."
   ]
  },
  {
   "cell_type": "code",
   "execution_count": null,
   "id": "6d25126d",
   "metadata": {},
   "outputs": [],
   "source": [
    "# Uncomment and run to show solution\n",
    "# !cat ./answers/answer_4.03.py"
   ]
  },
  {
   "cell_type": "markdown",
   "id": "f27740d1",
   "metadata": {
    "cell_type": "markdown"
   },
   "source": [
    "**Exercise 4.04**\n",
    "\n",
    "DuckDB releases are each named after a duck! Let's load [this data](https://duckdb.org/data/duckdb-releases.csv) into a new table called `duckdb_ducks`. You can use `read_csv` to load the data directly from the HTTP URL: `https://duckdb.org/data/duckdb-releases.csv`."
   ]
  },
  {
   "cell_type": "code",
   "execution_count": null,
   "id": "cab8f7f7",
   "metadata": {},
   "outputs": [],
   "source": [
    "# Uncomment and run to show solution\n",
    "# !cat ./answers/answer_4.04.py"
   ]
  },
  {
   "cell_type": "markdown",
   "id": "401a21b8",
   "metadata": {},
   "source": [
    "## Sharing is caring: Teach your data to fly!\n",
    "\n",
    "Now, we have two tables that we can join together and share with our colleagues!\n",
    "\n",
    "Let's inspect them and take a look at the columns we have available.\n",
    "\n",
    "```sql\n",
    "DESCRIBE animals;\n",
    "```\n",
    "\n",
    "```sql\n",
    "DESCRIBE duckdb_ducks;\n",
    "```\n",
    "\n",
    "Now, we can get the endangered species status of all DuckDB ducks by joining the two."
   ]
  },
  {
   "cell_type": "markdown",
   "id": "59a6dd1f",
   "metadata": {
    "cell_type": "markdown"
   },
   "source": [
    "**Exercise 4.05**\n",
    "\n",
    "Create a new table called `duckdb_species` that joins the `duckdb_ducks` and `animals` tables on the scientific name."
   ]
  },
  {
   "cell_type": "code",
   "execution_count": null,
   "id": "fd635358",
   "metadata": {},
   "outputs": [],
   "source": [
    "# Uncomment and run to show solution\n",
    "# !cat ./answers/answer_4.05.py"
   ]
  },
  {
   "cell_type": "markdown",
   "id": "07fa90ee",
   "metadata": {},
   "source": [
    "To share your database, you can run:\n",
    "\n",
    "```sql\n",
    "CREATE SHARE duck_share FROM my_db (ACCESS UNRESTRICTED);\n",
    "```\n",
    "\n",
    "Now you can print the share URL:"
   ]
  },
  {
   "cell_type": "code",
   "execution_count": null,
   "id": "4fc5d795",
   "metadata": {},
   "outputs": [],
   "source": [
    "print(df.share_url.iloc[0])"
   ]
  },
  {
   "cell_type": "markdown",
   "id": "60bcebc9",
   "metadata": {
    "cell_type": "markdown"
   },
   "source": [
    "**Exercise 4.06**\n",
    "\n",
    "Check out these datasets from Huggingface: https://huggingface.co/datasets. Pick one, create a share and send it to your neighbor!"
   ]
  },
  {
   "cell_type": "markdown",
   "id": "f82540a8",
   "metadata": {
    "cell_type": "markdown"
   },
   "source": [
    "To attach a share into your Cloud data warehouse, run:\n",
    "\n",
    "```sql\n",
    "ATTACH '<share_url>';\n",
    "```\n",
    "\n",
    "For example, to load the [Mosaic example datasets](https://github.com/motherduckdb/wasm-client/tree/main), run\n",
    "\n",
    "```sql\n",
    "ATTACH 'md:_share/mosaic_examples/b01cfda8-239e-4148-a228-054b94cdc3b4';\n",
    "```\n",
    "\n",
    "You can then inspect the database and query the data like so:\n",
    "\n",
    "```sql\n",
    "USE mosaic_examples;\n",
    "SHOW TABLES;\n",
    "```\n",
    "\n",
    "```sql\n",
    "SELECT * FROM seattle_weather;\n",
    "```"
   ]
  },
  {
   "cell_type": "markdown",
   "id": "d7a4d1ba",
   "metadata": {
    "cell_type": "markdown"
   },
   "source": [
    "**Exercise 4.07**\n",
    "\n",
    "Attach the share you received from your neighbor and inspect the tables."
   ]
  },
  {
   "cell_type": "markdown",
   "id": "20619285",
   "metadata": {
    "cell_type": "markdown"
   },
   "source": [
    "## Detaching and removing your shares\n",
    "\n",
    "To detach a database someone shared with you, make sure it's not selected, and run `DETACH`:\n",
    "\n",
    "```sql\n",
    "USE my_db;\n",
    "DETACH mosaic_examples;\n",
    "```\n",
    "\n",
    "To drop the share you created, simply run:\n",
    "\n",
    "```sql\n",
    "DROP SHARE duck_share;\n",
    "```\n",
    "\n",
    "## How do we fit AI into this?\n",
    "\n",
    "MotherDuck contains [a set of useful AI functions](https://motherduck.com/docs/category/sql-assistant/) that you can use interrogate your data.\n",
    "\n",
    "A particularly useful one is `PRAGMA prompt_query('<natural language question>')` - which we can use interrogate our datasets. Recall the exercise from part 3 - getting the bird with the maximum wing length? Lets do this with a bit of AI in MotherDuck.\n",
    "\n",
    "The first step is that it must understand the data, so we can simply create a table using CTAS from our local file:\n",
    "\n",
    "```sql\n",
    "CREATE OR REPLACE TABLE birds AS \n",
    "FROM 'birds.csv'\n",
    "```\n",
    "\n",
    "Then we can ask a question about it.\n",
    "\n",
    "```sql\n",
    "PRAGMA prompt_query('which bird has the largest wing length?')\n",
    "```\n",
    "\n",
    "This *should* return the right answer. But how can we validate it? Lets use `CALL prompt_sql()` to do so!\n",
    "\n",
    "```sql\n",
    "CALL prompt_sql('which bird has the largest wing length?')\n",
    "```\n",
    "\n",
    "This will return the SQL query that is associated to this question, which can then be inspected and run by the user!\n",
    "\n",
    "## Further Reading\n",
    "\n",
    "We have written extensively about using AI with SQL. Hopefully these links will help you understand how you can better these types of capabilities into your own workflow.\n",
    "- [Writing Flawless SQL in Cursor](https://motherduck.com/blog/vibe-coding-sql-cursor/)\n",
    "- [Using the MotherDuck MCP for Fast Pipeline Dev](https://motherduck.com/blog/faster-data-pipelines-with-mcp-duckdb-ai/)\n",
    "- [NLP inside of your database with `PROMPT()`](https://motherduck.com/blog/llm-data-pipelines-prompt-motherduck-dbt/)"
   ]
  }
 ],
 "metadata": {
  "kernelspec": {
   "display_name": "Python 3",
   "language": "python",
   "name": "python3"
  }
 },
 "nbformat": 4,
 "nbformat_minor": 5
}
